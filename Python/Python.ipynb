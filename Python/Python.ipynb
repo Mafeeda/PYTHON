{
 "cells": [
  {
   "cell_type": "markdown",
   "id": "d2936d71",
   "metadata": {},
   "source": [
    "# 1: Reverse each word of a string"
   ]
  },
  {
   "cell_type": "code",
   "execution_count": 1,
   "id": "d20c76d3",
   "metadata": {},
   "outputs": [],
   "source": [
    "str = 'My Name is Jessa'"
   ]
  },
  {
   "cell_type": "code",
   "execution_count": 3,
   "id": "0c27cfdc",
   "metadata": {},
   "outputs": [
    {
     "name": "stdout",
     "output_type": "stream",
     "text": [
      "yM emaN si asseJ\n"
     ]
    }
   ],
   "source": [
    "\n",
    "def reverse_words(Sentence):\n",
    "    # Split string on whitespace\n",
    "    words = Sentence.split(\" \")\n",
    "\n",
    "    # iterate list and reverse each word using ::-1\n",
    "    new_word_list = [word[::-1] for word in words]\n",
    "    \n",
    "    # Joining the new list of words\n",
    "    res_str = \" \".join(new_word_list)\n",
    "    return res_str\n",
    "\n",
    "# Given String\n",
    "str1 = \"My Name is Jessa\"\n",
    "print(reverse_words(str1))"
   ]
  },
  {
   "cell_type": "markdown",
   "id": "f9f894ab",
   "metadata": {},
   "source": [
    "# 2: Read text file into a variable and replace all newlines with space"
   ]
  },
  {
   "cell_type": "markdown",
   "id": "032c70a2",
   "metadata": {},
   "source": [
    "#### Given: Assume you have a following text file (sample.txt).\n",
    "\n",
    "    Line1\n",
    "    line2\n",
    "    line3\n",
    "    line4\n",
    "    line5"
   ]
  },
  {
   "cell_type": "code",
   "execution_count": null,
   "id": "b25cdfaa",
   "metadata": {},
   "outputs": [],
   "source": [
    "with open('sample.txt','r') as file:\n",
    "    data = file.read().replace('\\n',' ')\n",
    "print(data)"
   ]
  },
  {
   "cell_type": "markdown",
   "id": "186974b4",
   "metadata": {},
   "source": [
    "# 3: Remove items from a list while iterating\n"
   ]
  },
  {
   "cell_type": "markdown",
   "id": "0f1b148b",
   "metadata": {},
   "source": [
    "You need to remove items from a list while iterating but without creating a different copy of a list.\n",
    "\n",
    "Remove numbers greater than 50\n",
    "\n"
   ]
  },
  {
   "cell_type": "code",
   "execution_count": 6,
   "id": "5d434934",
   "metadata": {},
   "outputs": [],
   "source": [
    "number_list = [10, 20, 30, 40, 50, 60, 70, 80, 90, 100]"
   ]
  },
  {
   "cell_type": "code",
   "execution_count": 3,
   "id": "cbd31765",
   "metadata": {},
   "outputs": [
    {
     "ename": "KeyboardInterrupt",
     "evalue": "",
     "output_type": "error",
     "traceback": [
      "\u001b[0;31m---------------------------------------------------------------------------\u001b[0m",
      "\u001b[0;31mKeyboardInterrupt\u001b[0m                         Traceback (most recent call last)",
      "Input \u001b[0;32mIn [3]\u001b[0m, in \u001b[0;36m<cell line: 5>\u001b[0;34m()\u001b[0m\n\u001b[1;32m      8\u001b[0m         n \u001b[38;5;241m=\u001b[39m n\u001b[38;5;241m-\u001b[39m\u001b[38;5;241m1\u001b[39m\n\u001b[1;32m      9\u001b[0m     \u001b[38;5;28;01melse\u001b[39;00m:\n\u001b[0;32m---> 10\u001b[0m         n \u001b[38;5;241m=\u001b[39m \u001b[43mn\u001b[49m\u001b[43m \u001b[49m\u001b[38;5;241;43m+\u001b[39;49m\u001b[38;5;241;43m1\u001b[39;49m\n\u001b[1;32m     11\u001b[0m \u001b[38;5;28mprint\u001b[39m(number_list)\n",
      "\u001b[0;31mKeyboardInterrupt\u001b[0m: "
     ]
    }
   ],
   "source": [
    "number_list = [10, 20, 30, 40, 50, 60, 70, 80, 90, 100]\n",
    "i = 0\n",
    "n = len(number_list)\n",
    "\n",
    "while i < n :\n",
    "    if number_list[i] > 50:\n",
    "        del number_list[i] \n",
    "        n = n-1\n",
    "    else:\n",
    "        n = n + 1\n",
    "print(number_list)\n",
    "        "
   ]
  },
  {
   "cell_type": "markdown",
   "id": "b0150ff2",
   "metadata": {},
   "source": [
    "# 4: Reverse Dictionary mapping\n"
   ]
  },
  {
   "cell_type": "code",
   "execution_count": null,
   "id": "72267dec",
   "metadata": {},
   "outputs": [],
   "source": [
    "ascii_dict = {'A': 65, 'B': 66, 'C': 67, 'D': 68}"
   ]
  },
  {
   "cell_type": "code",
   "execution_count": 4,
   "id": "e4fe946e",
   "metadata": {},
   "outputs": [
    {
     "name": "stdout",
     "output_type": "stream",
     "text": [
      "The original dictionary : {'A': 65, 'B': 66, 'C': 67, 'D': 68}\n",
      "The reversed order dictionary : OrderedDict([('D', 68), ('C', 67), ('B', 66), ('A', 65)])\n"
     ]
    }
   ],
   "source": [
    "# 1\n",
    "\n",
    "from collections import OrderedDict\n",
    "  \n",
    "# initializing dictionary\n",
    "ascii_dict = {'A': 65, 'B': 66, 'C': 67, 'D': 68}\n",
    "  \n",
    "# printing original dictionary\n",
    "print(\"The original dictionary : \" + str(ascii_dict))\n",
    "  \n",
    "# Reverse Dictionary Keys Order\n",
    "# Using OrderedDict() + reversed() + items()\n",
    "res = OrderedDict(reversed(list(ascii_dict.items())))\n",
    "  \n",
    "# printing result \n",
    "print(\"The reversed order dictionary : \" + str(res)) "
   ]
  },
  {
   "cell_type": "code",
   "execution_count": 9,
   "id": "162e5b94",
   "metadata": {},
   "outputs": [
    {
     "data": {
      "text/plain": [
       "OrderedDict([('b', 2), ('a', 1)])"
      ]
     },
     "execution_count": 9,
     "metadata": {},
     "output_type": "execute_result"
    }
   ],
   "source": [
    "# 2\n",
    "\n",
    "my_map = {'a': 1, 'b': 2}\n",
    "rev = OrderedDict(reversed(list(my_map.items())))\n",
    "rev"
   ]
  },
  {
   "cell_type": "code",
   "execution_count": 10,
   "id": "b03ed6ef",
   "metadata": {},
   "outputs": [
    {
     "name": "stdout",
     "output_type": "stream",
     "text": [
      "The original dictionary : {'A': 65, 'B': 66, 'C': 67, 'D': 68}\n",
      "The reversed order dictionary : {'D': 68, 'C': 67, 'B': 66, 'A': 65}\n"
     ]
    }
   ],
   "source": [
    "# 3 - without OrderedDict\n",
    "\n",
    "ascii_dict = {'A': 65, 'B': 66, 'C': 67, 'D': 68}\n",
    "  \n",
    "print(\"The original dictionary : \" + str(ascii_dict))\n",
    "  \n",
    "# Reverse Dictionary Keys Order\n",
    "# Using reversed() + items()\n",
    "res = dict(reversed(list(ascii_dict.items())))\n",
    "  \n",
    "# printing result \n",
    "print(\"The reversed order dictionary : \" + str(res)) "
   ]
  },
  {
   "cell_type": "code",
   "execution_count": 6,
   "id": "65c3a65e",
   "metadata": {},
   "outputs": [
    {
     "name": "stdout",
     "output_type": "stream",
     "text": [
      "{65: 'A', 66: 'B', 67: 'C', 68: 'D'}\n"
     ]
    }
   ],
   "source": [
    "# 4 : By reverse mapping\n",
    "\n",
    "def inverse_mapping(f):\n",
    "    return f.__class__(map(reversed, f.items()))\n",
    "\n",
    "ascii_dict = {'A': 65, 'B': 66, 'C': 67, 'D': 68}\n",
    "print(inverse_mapping(ascii_dict))"
   ]
  },
  {
   "cell_type": "code",
   "execution_count": 11,
   "id": "c7e76fcd",
   "metadata": {},
   "outputs": [
    {
     "name": "stdout",
     "output_type": "stream",
     "text": [
      "{65: 'A', 66: 'B', 67: 'C', 68: 'D'}\n"
     ]
    }
   ],
   "source": [
    "# 5 \n",
    "\n",
    "ascii_dict = {'A': 65, 'B': 66, 'C': 67, 'D': 68}\n",
    "# Reverse mapping\n",
    "new_dict = {value: key for key, value in ascii_dict.items()}\n",
    "print(new_dict)\n"
   ]
  },
  {
   "cell_type": "code",
   "execution_count": 12,
   "id": "b0d6c0b7",
   "metadata": {},
   "outputs": [
    {
     "name": "stdout",
     "output_type": "stream",
     "text": [
      "{1: 'a', 2: 'b'}\n"
     ]
    }
   ],
   "source": [
    "my_map = {'a': 1, 'b': 2}\n",
    "new = {value : key for key, value in my_map.items()}\n",
    "print(new)"
   ]
  },
  {
   "cell_type": "markdown",
   "id": "b5d0656a",
   "metadata": {},
   "source": [
    "# 5: Display all duplicate items from a list\n",
    "Given:\n",
    "\n",
    "sample_list = [10, 20, 60, 30, 20, 40, 30, 60, 70, 80]"
   ]
  },
  {
   "cell_type": "code",
   "execution_count": 14,
   "id": "060c6b3b",
   "metadata": {},
   "outputs": [],
   "source": [
    "# 1: - Using collections.Counter()\n",
    "\n"
   ]
  },
  {
   "cell_type": "code",
   "execution_count": 16,
   "id": "cb3dfbe3",
   "metadata": {},
   "outputs": [
    {
     "name": "stdout",
     "output_type": "stream",
     "text": [
      "[20, 60, 30]\n"
     ]
    }
   ],
   "source": [
    "import collections\n",
    "sample_list = [10, 20, 60, 30, 20, 40, 30, 60, 70, 80]\n",
    "duplicates  = []\n",
    "\n",
    "for item,count in collections.Counter(sample_list).items():\n",
    "    if count > 1:\n",
    "        duplicates.append(item)\n",
    "print(duplicates)"
   ]
  },
  {
   "cell_type": "code",
   "execution_count": 17,
   "id": "b36a154c",
   "metadata": {},
   "outputs": [
    {
     "name": "stdout",
     "output_type": "stream",
     "text": [
      "[20, 30, 60]\n"
     ]
    }
   ],
   "source": [
    "# 2\n",
    "\n",
    "sample_list = [10, 20, 60, 30, 20, 40, 30, 60, 70, 80]\n",
    "exist = {}\n",
    "duplicates = []\n",
    "\n",
    "for x in sample_list:\n",
    "    if x not in exist:\n",
    "        exist[x] = 1\n",
    "    else:\n",
    "        duplicates.append(x)\n",
    "print(duplicates)"
   ]
  },
  {
   "cell_type": "markdown",
   "id": "2459ca3b",
   "metadata": {},
   "source": [
    "# 6: Filter dictionary to contain keys present in the given list\n"
   ]
  },
  {
   "cell_type": "code",
   "execution_count": 20,
   "id": "faebb080",
   "metadata": {},
   "outputs": [
    {
     "name": "stdout",
     "output_type": "stream",
     "text": [
      "{'A': 65, 'C': 67, 'F': 70}\n"
     ]
    }
   ],
   "source": [
    "# Dictionary\n",
    "d1 = {'A': 65, 'B': 66, 'C': 67, 'D': 68, 'E': 69, 'F': 70}\n",
    "\n",
    "# Filter dict using following keys\n",
    "l1 = ['A', 'C', 'F']\n",
    "new_dict = {key: d1[key] for key in l1}\n",
    "print(new_dict)"
   ]
  },
  {
   "cell_type": "markdown",
   "id": "318f1329",
   "metadata": {},
   "source": [
    "# 7: Programs to print number pattern\n",
    "\n",
    "    1  \n",
    "    2 2  \n",
    "    3 3 3  \n",
    "    4 4 4 4  \n",
    "    5 5 5 5 5\n"
   ]
  },
  {
   "cell_type": "code",
   "execution_count": 22,
   "id": "7740bcf2",
   "metadata": {},
   "outputs": [
    {
     "name": "stdout",
     "output_type": "stream",
     "text": [
      "\n",
      "1 \n",
      "2 2 \n",
      "3 3 3 \n",
      "4 4 4 4 \n",
      "5 5 5 5 5 \n"
     ]
    }
   ],
   "source": [
    "rows = 6\n",
    "\n",
    "# for outer loop\n",
    "for i in range(rows):\n",
    "    # nested loop\n",
    "    for j in range(i):\n",
    "        # display number\n",
    "        print(i, end=' ')\n",
    "        # new line after each row\n",
    "    print('')"
   ]
  },
  {
   "cell_type": "code",
   "execution_count": 24,
   "id": "175fc955",
   "metadata": {},
   "outputs": [
    {
     "name": "stdout",
     "output_type": "stream",
     "text": [
      "Enter the no of rows : 10\n",
      "\n",
      "1 \n",
      "2 2 \n",
      "3 3 3 \n",
      "4 4 4 4 \n",
      "5 5 5 5 5 \n",
      "6 6 6 6 6 6 \n",
      "7 7 7 7 7 7 7 \n",
      "8 8 8 8 8 8 8 8 \n",
      "9 9 9 9 9 9 9 9 9 \n"
     ]
    }
   ],
   "source": [
    "## if you want user to enter a number, uncomment the below line\n",
    "\n",
    "rows = int(input('Enter the no of rows : '))\n",
    "# for outer loop\n",
    "for i in range(rows):\n",
    "    # nested loop\n",
    "    for j in range(i):\n",
    "        # display number\n",
    "        print(i, end=' ')\n",
    "        # new line after each row\n",
    "    print('')\n"
   ]
  },
  {
   "cell_type": "markdown",
   "id": "ae6d60bf",
   "metadata": {},
   "source": [
    "# 8: Pyramid pattern of numbers\n",
    "\n",
    "    1 \n",
    "    1 2 \n",
    "    1 2 3 \n",
    "    1 2 3 4 \n",
    "    1 2 3 4 5"
   ]
  },
  {
   "cell_type": "code",
   "execution_count": 33,
   "id": "97321bfd",
   "metadata": {},
   "outputs": [
    {
     "name": "stdout",
     "output_type": "stream",
     "text": [
      "1 \n",
      "1 2 \n",
      "1 2 3 \n",
      "1 2 3 4 \n",
      "1 2 3 4 5 \n"
     ]
    }
   ],
   "source": [
    "rows = 5\n",
    "for i in range(1,rows+1):\n",
    "    for j in range(1,i + 1):\n",
    "        print(j,end=' ')\n",
    "    print('')\n",
    "    "
   ]
  },
  {
   "cell_type": "markdown",
   "id": "8efae0ec",
   "metadata": {},
   "source": [
    "# 9: Print the following number pattern\n",
    "\n",
    "    1 1 1 1 1 \n",
    "    2 2 2 2 \n",
    "    3 3 3 \n",
    "    4 4 \n",
    "    5"
   ]
  },
  {
   "cell_type": "code",
   "execution_count": 40,
   "id": "8a23a0ba",
   "metadata": {},
   "outputs": [
    {
     "name": "stdout",
     "output_type": "stream",
     "text": [
      "1 1 1 1 1  \n",
      "2 2 2 2  \n",
      "3 3 3  \n",
      "4 4  \n",
      "5  \n"
     ]
    }
   ],
   "source": [
    "rows = 5 \n",
    "b = 0\n",
    "for i in range(rows,0,-1):\n",
    "    b += 1\n",
    "    for j in range(1, i+ 1):\n",
    "        print(b, end=' ')\n",
    "    print(' ')"
   ]
  },
  {
   "cell_type": "markdown",
   "id": "fc976713",
   "metadata": {},
   "source": [
    "# 10: Inverted Pyramid pattern with the same digit\n"
   ]
  },
  {
   "cell_type": "code",
   "execution_count": 41,
   "id": "582affcb",
   "metadata": {},
   "outputs": [
    {
     "name": "stdout",
     "output_type": "stream",
     "text": [
      "5 5 5 5 5 \r\n",
      "5 5 5 5 \r\n",
      "5 5 5 \r\n",
      "5 5 \r\n",
      "5 \r\n"
     ]
    }
   ],
   "source": [
    "row = 5\n",
    "num = rows\n",
    "# reverse for loop\n",
    "for i in range(rows, 0, -1):\n",
    "    for j in range(0, i):\n",
    "        print(num, end=' ')\n",
    "    print(\"\\r\")"
   ]
  },
  {
   "cell_type": "markdown",
   "id": "b69c427b",
   "metadata": {},
   "source": [
    "# 11:  inverted half pyramid pattern with number"
   ]
  },
  {
   "cell_type": "code",
   "execution_count": 47,
   "id": "01bb1f71",
   "metadata": {},
   "outputs": [
    {
     "name": "stdout",
     "output_type": "stream",
     "text": [
      "0 1 2 3 4 5  \n",
      "0 1 2 3 4  \n",
      "0 1 2 3  \n",
      "0 1 2  \n",
      "0 1  \n"
     ]
    }
   ],
   "source": [
    "rows = 5 \n",
    "\n",
    "for i in range(rows,0,-1):\n",
    "    for j in range(0, i+ 1):\n",
    "        print(j, end=' ')\n",
    "    print(' ')"
   ]
  },
  {
   "cell_type": "markdown",
   "id": "db77daf3",
   "metadata": {},
   "source": [
    "# 12 : Create an inner function\n"
   ]
  },
  {
   "cell_type": "code",
   "execution_count": 50,
   "id": "40276988",
   "metadata": {},
   "outputs": [
    {
     "name": "stdout",
     "output_type": "stream",
     "text": [
      "EmmaKellyDevolopers\n"
     ]
    }
   ],
   "source": [
    "x = 'Emma' \n",
    "y = 'Kelly'\n",
    "z = x +y\n",
    "print(z +'Devolopers')"
   ]
  },
  {
   "cell_type": "code",
   "execution_count": 58,
   "id": "0a865794",
   "metadata": {},
   "outputs": [
    {
     "name": "stdout",
     "output_type": "stream",
     "text": [
      "EmmaKellyDevelopers\n"
     ]
    }
   ],
   "source": [
    "def inner_fun(x, y):\n",
    "    z = x + y\n",
    "    return z + 'Developers'\n",
    "\n",
    "result = inner_fun('Emma', 'Kelly')\n",
    "print(result)"
   ]
  },
  {
   "cell_type": "code",
   "execution_count": 59,
   "id": "831dd26b",
   "metadata": {},
   "outputs": [
    {
     "name": "stdout",
     "output_type": "stream",
     "text": [
      "EmmaKellyDevelopers\n"
     ]
    }
   ],
   "source": [
    "def manipulate(x, y):\n",
    "    # concatenate two strings\n",
    "    def inner_fun(x, y):\n",
    "        return x + y\n",
    "\n",
    "    z = inner_fun(x, y)\n",
    "    return z + 'Developers'\n",
    "\n",
    "result = manipulate('Emma', 'Kelly')\n",
    "print(result)"
   ]
  },
  {
   "cell_type": "markdown",
   "id": "4ef24b4e",
   "metadata": {},
   "source": [
    "# 13: Modify the element of a nested list inside the following list\n",
    "Change the element 35 to 3500"
   ]
  },
  {
   "cell_type": "code",
   "execution_count": 65,
   "id": "596320dc",
   "metadata": {},
   "outputs": [
    {
     "name": "stdout",
     "output_type": "stream",
     "text": [
      "[5, [10, 15, [20, 25, [30, 3500], 40], 45], 50]\n"
     ]
    }
   ],
   "source": [
    "list1 = [5, [10, 15, [20, 25, [30, 35], 40], 45], 50]\n",
    "\n",
    "list1[1][2][2][1] = 3500\n",
    "print(list1)"
   ]
  },
  {
   "cell_type": "markdown",
   "id": "89b3d101",
   "metadata": {},
   "source": [
    "# 14: Access the nested key increment from the following dictionary"
   ]
  },
  {
   "cell_type": "code",
   "execution_count": 66,
   "id": "57089f9f",
   "metadata": {},
   "outputs": [
    {
     "name": "stdout",
     "output_type": "stream",
     "text": [
      "12\n"
     ]
    }
   ],
   "source": [
    "emp_dict = {\n",
    "    \"company\": {\n",
    "        \"employee\": {\n",
    "            \"name\": \"Jess\",\n",
    "            \"payable\": {\n",
    "                \"salary\": 9000,\n",
    "                \"increment\": 12\n",
    "            }\n",
    "        }\n",
    "    }\n",
    "}\n",
    "print(emp_dict['company']['employee']['payable']['increment'])"
   ]
  },
  {
   "cell_type": "code",
   "execution_count": null,
   "id": "a855bba5",
   "metadata": {},
   "outputs": [],
   "source": []
  }
 ],
 "metadata": {
  "kernelspec": {
   "display_name": "Python 3 (ipykernel)",
   "language": "python",
   "name": "python3"
  },
  "language_info": {
   "codemirror_mode": {
    "name": "ipython",
    "version": 3
   },
   "file_extension": ".py",
   "mimetype": "text/x-python",
   "name": "python",
   "nbconvert_exporter": "python",
   "pygments_lexer": "ipython3",
   "version": "3.8.8"
  }
 },
 "nbformat": 4,
 "nbformat_minor": 5
}
